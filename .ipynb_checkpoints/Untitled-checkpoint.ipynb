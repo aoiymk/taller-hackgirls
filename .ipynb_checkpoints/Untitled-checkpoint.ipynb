{
 "cells": [
  {
   "cell_type": "markdown",
   "metadata": {},
   "source": [
    "## Taller Hackgirls de Análisis de datos 💪🏻\n",
    "\n",
    "**Objetivo:** En este taller veremos *lo escencial* para hacer nuestros primeros análisis en python"
   ]
  },
  {
   "cell_type": "code",
   "execution_count": 172,
   "metadata": {},
   "outputs": [],
   "source": [
    "#Libreria para gestion de los datos\n",
    "import pandas as pd\n",
    "\n",
    "#Librerias para graficas\n",
    "import matplotlib.pyplot as plt\n",
    "import seaborn as sns\n",
    "\n",
    "#Librerias para hacer regresiones\n",
    "import statsmodels.api as sm\n",
    "import statsmodels.formula.api as smf"
   ]
  },
  {
   "cell_type": "code",
   "execution_count": 137,
   "metadata": {},
   "outputs": [],
   "source": [
    "data = pd.read_csv(\"nations.zip\")"
   ]
  },
  {
   "cell_type": "code",
   "execution_count": 138,
   "metadata": {},
   "outputs": [],
   "source": [
    "#Eliminar columna que no sirve\n",
    "data = data.drop(\"Unnamed: 0\",axis=1)"
   ]
  },
  {
   "cell_type": "code",
   "execution_count": 32,
   "metadata": {},
   "outputs": [
    {
     "data": {
      "text/html": [
       "<div>\n",
       "<style scoped>\n",
       "    .dataframe tbody tr th:only-of-type {\n",
       "        vertical-align: middle;\n",
       "    }\n",
       "\n",
       "    .dataframe tbody tr th {\n",
       "        vertical-align: top;\n",
       "    }\n",
       "\n",
       "    .dataframe thead th {\n",
       "        text-align: right;\n",
       "    }\n",
       "</style>\n",
       "<table border=\"1\" class=\"dataframe\">\n",
       "  <thead>\n",
       "    <tr style=\"text-align: right;\">\n",
       "      <th></th>\n",
       "      <th>gdp</th>\n",
       "      <th>school</th>\n",
       "      <th>adfert</th>\n",
       "      <th>chldmort</th>\n",
       "      <th>life</th>\n",
       "      <th>pop</th>\n",
       "      <th>urban</th>\n",
       "      <th>femlab</th>\n",
       "      <th>literacy</th>\n",
       "      <th>co2</th>\n",
       "      <th>gini</th>\n",
       "      <th>fila_inutil</th>\n",
       "    </tr>\n",
       "  </thead>\n",
       "  <tbody>\n",
       "    <tr>\n",
       "      <th>count</th>\n",
       "      <td>179.000000</td>\n",
       "      <td>188.000000</td>\n",
       "      <td>194.000000</td>\n",
       "      <td>193.000000</td>\n",
       "      <td>194.000000</td>\n",
       "      <td>1.940000e+02</td>\n",
       "      <td>194.000000</td>\n",
       "      <td>177.000000</td>\n",
       "      <td>135.000000</td>\n",
       "      <td>185.000000</td>\n",
       "      <td>81.000000</td>\n",
       "      <td>194.0</td>\n",
       "    </tr>\n",
       "    <tr>\n",
       "      <th>mean</th>\n",
       "      <td>12118.739193</td>\n",
       "      <td>7.459220</td>\n",
       "      <td>51.814433</td>\n",
       "      <td>47.650259</td>\n",
       "      <td>68.729295</td>\n",
       "      <td>3.437752e+07</td>\n",
       "      <td>55.434880</td>\n",
       "      <td>0.691606</td>\n",
       "      <td>81.533148</td>\n",
       "      <td>17.885946</td>\n",
       "      <td>40.477778</td>\n",
       "      <td>1.0</td>\n",
       "    </tr>\n",
       "    <tr>\n",
       "      <th>std</th>\n",
       "      <td>13942.341217</td>\n",
       "      <td>2.959589</td>\n",
       "      <td>44.066120</td>\n",
       "      <td>52.809400</td>\n",
       "      <td>10.055404</td>\n",
       "      <td>1.314004e+08</td>\n",
       "      <td>23.439101</td>\n",
       "      <td>0.182871</td>\n",
       "      <td>19.466359</td>\n",
       "      <td>25.670704</td>\n",
       "      <td>8.487874</td>\n",
       "      <td>0.0</td>\n",
       "    </tr>\n",
       "    <tr>\n",
       "      <th>min</th>\n",
       "      <td>279.799988</td>\n",
       "      <td>1.150000</td>\n",
       "      <td>1.000000</td>\n",
       "      <td>2.250000</td>\n",
       "      <td>45.849998</td>\n",
       "      <td>9.767000e+03</td>\n",
       "      <td>10.250000</td>\n",
       "      <td>0.194200</td>\n",
       "      <td>23.600000</td>\n",
       "      <td>0.100000</td>\n",
       "      <td>19.000000</td>\n",
       "      <td>1.0</td>\n",
       "    </tr>\n",
       "    <tr>\n",
       "      <th>25%</th>\n",
       "      <td>2100.300049</td>\n",
       "      <td>5.225000</td>\n",
       "      <td>16.500000</td>\n",
       "      <td>10.250000</td>\n",
       "      <td>63.745833</td>\n",
       "      <td>1.483754e+06</td>\n",
       "      <td>36.325000</td>\n",
       "      <td>0.578200</td>\n",
       "      <td>70.099998</td>\n",
       "      <td>2.250000</td>\n",
       "      <td>34.000000</td>\n",
       "      <td>1.0</td>\n",
       "    </tr>\n",
       "    <tr>\n",
       "      <th>50%</th>\n",
       "      <td>6932.799805</td>\n",
       "      <td>7.950000</td>\n",
       "      <td>39.350000</td>\n",
       "      <td>24.000000</td>\n",
       "      <td>72.183331</td>\n",
       "      <td>6.784909e+06</td>\n",
       "      <td>56.475000</td>\n",
       "      <td>0.730400</td>\n",
       "      <td>89.699997</td>\n",
       "      <td>8.450000</td>\n",
       "      <td>39.700001</td>\n",
       "      <td>1.0</td>\n",
       "    </tr>\n",
       "    <tr>\n",
       "      <th>75%</th>\n",
       "      <td>17576.299805</td>\n",
       "      <td>9.850000</td>\n",
       "      <td>74.375002</td>\n",
       "      <td>69.750000</td>\n",
       "      <td>75.545835</td>\n",
       "      <td>2.225532e+07</td>\n",
       "      <td>73.483334</td>\n",
       "      <td>0.820600</td>\n",
       "      <td>97.699997</td>\n",
       "      <td>25.000000</td>\n",
       "      <td>46.200001</td>\n",
       "      <td>1.0</td>\n",
       "    </tr>\n",
       "    <tr>\n",
       "      <th>max</th>\n",
       "      <td>74906.000000</td>\n",
       "      <td>12.700000</td>\n",
       "      <td>207.100006</td>\n",
       "      <td>209.000000</td>\n",
       "      <td>82.766663</td>\n",
       "      <td>1.324696e+09</td>\n",
       "      <td>100.000000</td>\n",
       "      <td>1.034400</td>\n",
       "      <td>100.000000</td>\n",
       "      <td>210.649994</td>\n",
       "      <td>58.500000</td>\n",
       "      <td>1.0</td>\n",
       "    </tr>\n",
       "  </tbody>\n",
       "</table>\n",
       "</div>"
      ],
      "text/plain": [
       "                gdp      school      adfert    chldmort        life  \\\n",
       "count    179.000000  188.000000  194.000000  193.000000  194.000000   \n",
       "mean   12118.739193    7.459220   51.814433   47.650259   68.729295   \n",
       "std    13942.341217    2.959589   44.066120   52.809400   10.055404   \n",
       "min      279.799988    1.150000    1.000000    2.250000   45.849998   \n",
       "25%     2100.300049    5.225000   16.500000   10.250000   63.745833   \n",
       "50%     6932.799805    7.950000   39.350000   24.000000   72.183331   \n",
       "75%    17576.299805    9.850000   74.375002   69.750000   75.545835   \n",
       "max    74906.000000   12.700000  207.100006  209.000000   82.766663   \n",
       "\n",
       "                pop       urban      femlab    literacy         co2  \\\n",
       "count  1.940000e+02  194.000000  177.000000  135.000000  185.000000   \n",
       "mean   3.437752e+07   55.434880    0.691606   81.533148   17.885946   \n",
       "std    1.314004e+08   23.439101    0.182871   19.466359   25.670704   \n",
       "min    9.767000e+03   10.250000    0.194200   23.600000    0.100000   \n",
       "25%    1.483754e+06   36.325000    0.578200   70.099998    2.250000   \n",
       "50%    6.784909e+06   56.475000    0.730400   89.699997    8.450000   \n",
       "75%    2.225532e+07   73.483334    0.820600   97.699997   25.000000   \n",
       "max    1.324696e+09  100.000000    1.034400  100.000000  210.649994   \n",
       "\n",
       "            gini  fila_inutil  \n",
       "count  81.000000        194.0  \n",
       "mean   40.477778          1.0  \n",
       "std     8.487874          0.0  \n",
       "min    19.000000          1.0  \n",
       "25%    34.000000          1.0  \n",
       "50%    39.700001          1.0  \n",
       "75%    46.200001          1.0  \n",
       "max    58.500000          1.0  "
      ]
     },
     "execution_count": 32,
     "metadata": {},
     "output_type": "execute_result"
    }
   ],
   "source": [
    "#Descripción estadística del dataset C:\n",
    "data.describe()"
   ]
  },
  {
   "cell_type": "code",
   "execution_count": 39,
   "metadata": {},
   "outputs": [
    {
     "data": {
      "text/html": [
       "<div>\n",
       "<style scoped>\n",
       "    .dataframe tbody tr th:only-of-type {\n",
       "        vertical-align: middle;\n",
       "    }\n",
       "\n",
       "    .dataframe tbody tr th {\n",
       "        vertical-align: top;\n",
       "    }\n",
       "\n",
       "    .dataframe thead th {\n",
       "        text-align: right;\n",
       "    }\n",
       "</style>\n",
       "<table border=\"1\" class=\"dataframe\">\n",
       "  <thead>\n",
       "    <tr style=\"text-align: right;\">\n",
       "      <th></th>\n",
       "      <th>country</th>\n",
       "      <th>region</th>\n",
       "      <th>gdp</th>\n",
       "      <th>school</th>\n",
       "      <th>adfert</th>\n",
       "      <th>chldmort</th>\n",
       "      <th>life</th>\n",
       "      <th>pop</th>\n",
       "      <th>urban</th>\n",
       "      <th>femlab</th>\n",
       "      <th>literacy</th>\n",
       "      <th>co2</th>\n",
       "      <th>gini</th>\n",
       "      <th>fila_inutil</th>\n",
       "    </tr>\n",
       "  </thead>\n",
       "  <tbody>\n",
       "    <tr>\n",
       "      <th>0</th>\n",
       "      <td>Algeria</td>\n",
       "      <td>Africa</td>\n",
       "      <td>7300.399902</td>\n",
       "      <td>6.716667</td>\n",
       "      <td>7.300000</td>\n",
       "      <td>34.75</td>\n",
       "      <td>72.316666</td>\n",
       "      <td>34172236</td>\n",
       "      <td>64.933334</td>\n",
       "      <td>0.4522</td>\n",
       "      <td>72.599998</td>\n",
       "      <td>15.0</td>\n",
       "      <td>NaN</td>\n",
       "      <td>1</td>\n",
       "    </tr>\n",
       "    <tr>\n",
       "      <th>1</th>\n",
       "      <td>Benin</td>\n",
       "      <td>Africa</td>\n",
       "      <td>1338.800049</td>\n",
       "      <td>3.100000</td>\n",
       "      <td>111.699997</td>\n",
       "      <td>122.75</td>\n",
       "      <td>54.733334</td>\n",
       "      <td>8237634</td>\n",
       "      <td>41.000000</td>\n",
       "      <td>0.8482</td>\n",
       "      <td>41.700001</td>\n",
       "      <td>1.2</td>\n",
       "      <td>NaN</td>\n",
       "      <td>1</td>\n",
       "    </tr>\n",
       "    <tr>\n",
       "      <th>2</th>\n",
       "      <td>Botswana</td>\n",
       "      <td>Africa</td>\n",
       "      <td>12307.400391</td>\n",
       "      <td>8.600000</td>\n",
       "      <td>52.099998</td>\n",
       "      <td>60.25</td>\n",
       "      <td>52.250000</td>\n",
       "      <td>1941233</td>\n",
       "      <td>59.250000</td>\n",
       "      <td>0.8870</td>\n",
       "      <td>84.099998</td>\n",
       "      <td>9.2</td>\n",
       "      <td>NaN</td>\n",
       "      <td>1</td>\n",
       "    </tr>\n",
       "    <tr>\n",
       "      <th>3</th>\n",
       "      <td>Burkina Faso</td>\n",
       "      <td>Africa</td>\n",
       "      <td>1063.400024</td>\n",
       "      <td>1.300000</td>\n",
       "      <td>124.800003</td>\n",
       "      <td>170.50</td>\n",
       "      <td>53.783333</td>\n",
       "      <td>15308383</td>\n",
       "      <td>23.583334</td>\n",
       "      <td>0.8584</td>\n",
       "      <td>23.600000</td>\n",
       "      <td>0.2</td>\n",
       "      <td>NaN</td>\n",
       "      <td>1</td>\n",
       "    </tr>\n",
       "    <tr>\n",
       "      <th>4</th>\n",
       "      <td>Burundi</td>\n",
       "      <td>Africa</td>\n",
       "      <td>349.200012</td>\n",
       "      <td>2.483333</td>\n",
       "      <td>18.600000</td>\n",
       "      <td>168.50</td>\n",
       "      <td>48.866665</td>\n",
       "      <td>7821783</td>\n",
       "      <td>10.250000</td>\n",
       "      <td>1.0344</td>\n",
       "      <td>66.599998</td>\n",
       "      <td>0.1</td>\n",
       "      <td>33.299999</td>\n",
       "      <td>1</td>\n",
       "    </tr>\n",
       "  </tbody>\n",
       "</table>\n",
       "</div>"
      ],
      "text/plain": [
       "        country  region           gdp    school      adfert  chldmort  \\\n",
       "0       Algeria  Africa   7300.399902  6.716667    7.300000     34.75   \n",
       "1         Benin  Africa   1338.800049  3.100000  111.699997    122.75   \n",
       "2      Botswana  Africa  12307.400391  8.600000   52.099998     60.25   \n",
       "3  Burkina Faso  Africa   1063.400024  1.300000  124.800003    170.50   \n",
       "4       Burundi  Africa    349.200012  2.483333   18.600000    168.50   \n",
       "\n",
       "        life       pop      urban  femlab   literacy   co2       gini  \\\n",
       "0  72.316666  34172236  64.933334  0.4522  72.599998  15.0        NaN   \n",
       "1  54.733334   8237634  41.000000  0.8482  41.700001   1.2        NaN   \n",
       "2  52.250000   1941233  59.250000  0.8870  84.099998   9.2        NaN   \n",
       "3  53.783333  15308383  23.583334  0.8584  23.600000   0.2        NaN   \n",
       "4  48.866665   7821783  10.250000  1.0344  66.599998   0.1  33.299999   \n",
       "\n",
       "   fila_inutil  \n",
       "0            1  \n",
       "1            1  \n",
       "2            1  \n",
       "3            1  \n",
       "4            1  "
      ]
     },
     "execution_count": 39,
     "metadata": {},
     "output_type": "execute_result"
    }
   ],
   "source": [
    "#Muestra las 10 primeras filas\n",
    "data.head(10)"
   ]
  },
  {
   "cell_type": "code",
   "execution_count": 40,
   "metadata": {},
   "outputs": [
    {
     "data": {
      "text/html": [
       "<div>\n",
       "<style scoped>\n",
       "    .dataframe tbody tr th:only-of-type {\n",
       "        vertical-align: middle;\n",
       "    }\n",
       "\n",
       "    .dataframe tbody tr th {\n",
       "        vertical-align: top;\n",
       "    }\n",
       "\n",
       "    .dataframe thead th {\n",
       "        text-align: right;\n",
       "    }\n",
       "</style>\n",
       "<table border=\"1\" class=\"dataframe\">\n",
       "  <thead>\n",
       "    <tr style=\"text-align: right;\">\n",
       "      <th></th>\n",
       "      <th>country</th>\n",
       "      <th>region</th>\n",
       "      <th>gdp</th>\n",
       "      <th>school</th>\n",
       "      <th>adfert</th>\n",
       "      <th>chldmort</th>\n",
       "      <th>life</th>\n",
       "      <th>pop</th>\n",
       "      <th>urban</th>\n",
       "      <th>femlab</th>\n",
       "      <th>literacy</th>\n",
       "      <th>co2</th>\n",
       "      <th>gini</th>\n",
       "      <th>fila_inutil</th>\n",
       "    </tr>\n",
       "  </thead>\n",
       "  <tbody>\n",
       "    <tr>\n",
       "      <th>182</th>\n",
       "      <td>Kiribati</td>\n",
       "      <td>Oceania</td>\n",
       "      <td>2294.199951</td>\n",
       "      <td>7.800000</td>\n",
       "      <td>22.200001</td>\n",
       "      <td>49.25</td>\n",
       "      <td>67.133331</td>\n",
       "      <td>95750</td>\n",
       "      <td>43.700001</td>\n",
       "      <td>NaN</td>\n",
       "      <td>NaN</td>\n",
       "      <td>1.050000</td>\n",
       "      <td>NaN</td>\n",
       "      <td>1</td>\n",
       "    </tr>\n",
       "    <tr>\n",
       "      <th>183</th>\n",
       "      <td>Marshall Is</td>\n",
       "      <td>Oceania</td>\n",
       "      <td>NaN</td>\n",
       "      <td>9.800000</td>\n",
       "      <td>53.500000</td>\n",
       "      <td>36.00</td>\n",
       "      <td>70.866669</td>\n",
       "      <td>52833</td>\n",
       "      <td>70.900002</td>\n",
       "      <td>NaN</td>\n",
       "      <td>NaN</td>\n",
       "      <td>5.650000</td>\n",
       "      <td>NaN</td>\n",
       "      <td>1</td>\n",
       "    </tr>\n",
       "    <tr>\n",
       "      <th>184</th>\n",
       "      <td>Micronesia</td>\n",
       "      <td>Oceania</td>\n",
       "      <td>2906.800049</td>\n",
       "      <td>8.800000</td>\n",
       "      <td>25.400000</td>\n",
       "      <td>40.00</td>\n",
       "      <td>68.349998</td>\n",
       "      <td>110250</td>\n",
       "      <td>22.483334</td>\n",
       "      <td>NaN</td>\n",
       "      <td>NaN</td>\n",
       "      <td>NaN</td>\n",
       "      <td>NaN</td>\n",
       "      <td>1</td>\n",
       "    </tr>\n",
       "    <tr>\n",
       "      <th>185</th>\n",
       "      <td>Nauru</td>\n",
       "      <td>Oceania</td>\n",
       "      <td>NaN</td>\n",
       "      <td>NaN</td>\n",
       "      <td>31.200001</td>\n",
       "      <td>45.50</td>\n",
       "      <td>79.466667</td>\n",
       "      <td>10183</td>\n",
       "      <td>100.000000</td>\n",
       "      <td>NaN</td>\n",
       "      <td>NaN</td>\n",
       "      <td>51.849998</td>\n",
       "      <td>NaN</td>\n",
       "      <td>1</td>\n",
       "    </tr>\n",
       "    <tr>\n",
       "      <th>186</th>\n",
       "      <td>New Zealand</td>\n",
       "      <td>Oceania</td>\n",
       "      <td>25199.599609</td>\n",
       "      <td>12.366667</td>\n",
       "      <td>30.900000</td>\n",
       "      <td>6.25</td>\n",
       "      <td>80.083336</td>\n",
       "      <td>4253334</td>\n",
       "      <td>86.133331</td>\n",
       "      <td>0.8118</td>\n",
       "      <td>NaN</td>\n",
       "      <td>26.950001</td>\n",
       "      <td>NaN</td>\n",
       "      <td>1</td>\n",
       "    </tr>\n",
       "    <tr>\n",
       "      <th>187</th>\n",
       "      <td>Palau</td>\n",
       "      <td>Oceania</td>\n",
       "      <td>NaN</td>\n",
       "      <td>12.100000</td>\n",
       "      <td>13.800000</td>\n",
       "      <td>15.00</td>\n",
       "      <td>70.666664</td>\n",
       "      <td>20167</td>\n",
       "      <td>80.683334</td>\n",
       "      <td>NaN</td>\n",
       "      <td>NaN</td>\n",
       "      <td>21.349998</td>\n",
       "      <td>NaN</td>\n",
       "      <td>1</td>\n",
       "    </tr>\n",
       "    <tr>\n",
       "      <th>188</th>\n",
       "      <td>Papua New Guinea</td>\n",
       "      <td>Oceania</td>\n",
       "      <td>1953.800049</td>\n",
       "      <td>4.116667</td>\n",
       "      <td>66.900002</td>\n",
       "      <td>69.75</td>\n",
       "      <td>61.483334</td>\n",
       "      <td>6474600</td>\n",
       "      <td>12.516666</td>\n",
       "      <td>0.9656</td>\n",
       "      <td>60.099998</td>\n",
       "      <td>2.750000</td>\n",
       "      <td>NaN</td>\n",
       "      <td>1</td>\n",
       "    </tr>\n",
       "    <tr>\n",
       "      <th>189</th>\n",
       "      <td>Samoa</td>\n",
       "      <td>Oceania</td>\n",
       "      <td>4012.600098</td>\n",
       "      <td>10.300000</td>\n",
       "      <td>28.299999</td>\n",
       "      <td>26.75</td>\n",
       "      <td>71.533333</td>\n",
       "      <td>181600</td>\n",
       "      <td>20.666668</td>\n",
       "      <td>0.5010</td>\n",
       "      <td>98.800003</td>\n",
       "      <td>3.100000</td>\n",
       "      <td>NaN</td>\n",
       "      <td>1</td>\n",
       "    </tr>\n",
       "    <tr>\n",
       "      <th>190</th>\n",
       "      <td>Solomon Islands</td>\n",
       "      <td>Oceania</td>\n",
       "      <td>2249.199951</td>\n",
       "      <td>4.500000</td>\n",
       "      <td>70.300003</td>\n",
       "      <td>36.00</td>\n",
       "      <td>66.500000</td>\n",
       "      <td>503617</td>\n",
       "      <td>17.766666</td>\n",
       "      <td>0.4858</td>\n",
       "      <td>NaN</td>\n",
       "      <td>1.400000</td>\n",
       "      <td>NaN</td>\n",
       "      <td>1</td>\n",
       "    </tr>\n",
       "    <tr>\n",
       "      <th>191</th>\n",
       "      <td>Tonga</td>\n",
       "      <td>Oceania</td>\n",
       "      <td>4072.199951</td>\n",
       "      <td>10.133333</td>\n",
       "      <td>22.299999</td>\n",
       "      <td>19.25</td>\n",
       "      <td>71.833336</td>\n",
       "      <td>102550</td>\n",
       "      <td>23.266666</td>\n",
       "      <td>0.7150</td>\n",
       "      <td>99.000000</td>\n",
       "      <td>4.850000</td>\n",
       "      <td>NaN</td>\n",
       "      <td>1</td>\n",
       "    </tr>\n",
       "    <tr>\n",
       "      <th>192</th>\n",
       "      <td>Tuvalu</td>\n",
       "      <td>Oceania</td>\n",
       "      <td>NaN</td>\n",
       "      <td>NaN</td>\n",
       "      <td>23.299999</td>\n",
       "      <td>36.50</td>\n",
       "      <td>66.033333</td>\n",
       "      <td>9767</td>\n",
       "      <td>49.233334</td>\n",
       "      <td>NaN</td>\n",
       "      <td>NaN</td>\n",
       "      <td>NaN</td>\n",
       "      <td>NaN</td>\n",
       "      <td>1</td>\n",
       "    </tr>\n",
       "    <tr>\n",
       "      <th>193</th>\n",
       "      <td>Vanuatu</td>\n",
       "      <td>Oceania</td>\n",
       "      <td>3809.800049</td>\n",
       "      <td>6.700000</td>\n",
       "      <td>54.000000</td>\n",
       "      <td>17.75</td>\n",
       "      <td>69.966667</td>\n",
       "      <td>225317</td>\n",
       "      <td>24.500000</td>\n",
       "      <td>0.8988</td>\n",
       "      <td>82.000000</td>\n",
       "      <td>1.500000</td>\n",
       "      <td>NaN</td>\n",
       "      <td>1</td>\n",
       "    </tr>\n",
       "  </tbody>\n",
       "</table>\n",
       "</div>"
      ],
      "text/plain": [
       "              country   region           gdp     school     adfert  chldmort  \\\n",
       "182          Kiribati  Oceania   2294.199951   7.800000  22.200001     49.25   \n",
       "183       Marshall Is  Oceania           NaN   9.800000  53.500000     36.00   \n",
       "184        Micronesia  Oceania   2906.800049   8.800000  25.400000     40.00   \n",
       "185             Nauru  Oceania           NaN        NaN  31.200001     45.50   \n",
       "186       New Zealand  Oceania  25199.599609  12.366667  30.900000      6.25   \n",
       "187             Palau  Oceania           NaN  12.100000  13.800000     15.00   \n",
       "188  Papua New Guinea  Oceania   1953.800049   4.116667  66.900002     69.75   \n",
       "189             Samoa  Oceania   4012.600098  10.300000  28.299999     26.75   \n",
       "190   Solomon Islands  Oceania   2249.199951   4.500000  70.300003     36.00   \n",
       "191             Tonga  Oceania   4072.199951  10.133333  22.299999     19.25   \n",
       "192            Tuvalu  Oceania           NaN        NaN  23.299999     36.50   \n",
       "193           Vanuatu  Oceania   3809.800049   6.700000  54.000000     17.75   \n",
       "\n",
       "          life      pop       urban  femlab   literacy        co2  gini  \\\n",
       "182  67.133331    95750   43.700001     NaN        NaN   1.050000   NaN   \n",
       "183  70.866669    52833   70.900002     NaN        NaN   5.650000   NaN   \n",
       "184  68.349998   110250   22.483334     NaN        NaN        NaN   NaN   \n",
       "185  79.466667    10183  100.000000     NaN        NaN  51.849998   NaN   \n",
       "186  80.083336  4253334   86.133331  0.8118        NaN  26.950001   NaN   \n",
       "187  70.666664    20167   80.683334     NaN        NaN  21.349998   NaN   \n",
       "188  61.483334  6474600   12.516666  0.9656  60.099998   2.750000   NaN   \n",
       "189  71.533333   181600   20.666668  0.5010  98.800003   3.100000   NaN   \n",
       "190  66.500000   503617   17.766666  0.4858        NaN   1.400000   NaN   \n",
       "191  71.833336   102550   23.266666  0.7150  99.000000   4.850000   NaN   \n",
       "192  66.033333     9767   49.233334     NaN        NaN        NaN   NaN   \n",
       "193  69.966667   225317   24.500000  0.8988  82.000000   1.500000   NaN   \n",
       "\n",
       "     fila_inutil  \n",
       "182            1  \n",
       "183            1  \n",
       "184            1  \n",
       "185            1  \n",
       "186            1  \n",
       "187            1  \n",
       "188            1  \n",
       "189            1  \n",
       "190            1  \n",
       "191            1  \n",
       "192            1  \n",
       "193            1  "
      ]
     },
     "execution_count": 40,
     "metadata": {},
     "output_type": "execute_result"
    }
   ],
   "source": [
    "#Muestra las 12 ultimas filas\n",
    "data.tail(12)"
   ]
  },
  {
   "cell_type": "code",
   "execution_count": 45,
   "metadata": {},
   "outputs": [],
   "source": [
    "#aumentar la visualización de filas del dataframe\n",
    "pd.set_option('max_rows',50)"
   ]
  },
  {
   "cell_type": "code",
   "execution_count": 57,
   "metadata": {},
   "outputs": [
    {
     "name": "stdout",
     "output_type": "stream",
     "text": [
      "El promedio de pop es: 68.72929533732305\n"
     ]
    }
   ],
   "source": [
    "promedio_life = data.life.mean()\n",
    "print(f'El promedio de pop es: {promedio_life}')"
   ]
  },
  {
   "cell_type": "code",
   "execution_count": 49,
   "metadata": {},
   "outputs": [
    {
     "data": {
      "text/plain": [
       "1324696064"
      ]
     },
     "execution_count": 49,
     "metadata": {},
     "output_type": "execute_result"
    }
   ],
   "source": [
    "data[\"pop\"].max()"
   ]
  },
  {
   "cell_type": "code",
   "execution_count": 58,
   "metadata": {},
   "outputs": [
    {
     "data": {
      "text/plain": [
       "array(['Africa', 'Americas', 'Asia', 'Europe', 'Oceania'], dtype=object)"
      ]
     },
     "execution_count": 58,
     "metadata": {},
     "output_type": "execute_result"
    }
   ],
   "source": [
    "#Muestra todos los valores unicos\n",
    "data[\"region\"].unique()"
   ]
  },
  {
   "cell_type": "code",
   "execution_count": 59,
   "metadata": {},
   "outputs": [
    {
     "data": {
      "text/plain": [
       "5"
      ]
     },
     "execution_count": 59,
     "metadata": {},
     "output_type": "execute_result"
    }
   ],
   "source": [
    "#Cuenta todos los valores unicos\n",
    "data[\"region\"].nunique()"
   ]
  },
  {
   "cell_type": "code",
   "execution_count": 61,
   "metadata": {},
   "outputs": [
    {
     "data": {
      "text/plain": [
       "194"
      ]
     },
     "execution_count": 61,
     "metadata": {},
     "output_type": "execute_result"
    }
   ],
   "source": [
    "#Muestra todos los valores unicos\n",
    "data[\"country\"].nunique()"
   ]
  },
  {
   "cell_type": "code",
   "execution_count": 66,
   "metadata": {},
   "outputs": [
    {
     "data": {
      "text/plain": [
       "<matplotlib.axes._subplots.AxesSubplot at 0x7f82119bad90>"
      ]
     },
     "execution_count": 66,
     "metadata": {},
     "output_type": "execute_result"
    },
    {
     "data": {
      "image/png": "[encoded data removed]",
      "text/plain": [
       "<Figure size 432x288 with 1 Axes>"
      ]
     },
     "metadata": {
      "needs_background": "light"
     },
     "output_type": "display_data"
    }
   ],
   "source": [
    "sns.boxplot(data=data,x=\"life\")"
   ]
  },
  {
   "cell_type": "code",
   "execution_count": 79,
   "metadata": {},
   "outputs": [
    {
     "data": {
      "text/plain": [
       "Text(0, 0.5, 'Region')"
      ]
     },
     "execution_count": 79,
     "metadata": {},
     "output_type": "execute_result"
    },
    {
     "data": {
      "image/png": "[encoded data removed]",
      "text/plain": [
       "<Figure size 720x360 with 1 Axes>"
      ]
     },
     "metadata": {
      "needs_background": "light"
     },
     "output_type": "display_data"
    }
   ],
   "source": [
    "#Gráfico boxplot de variable life\n",
    "plt.figure(figsize=(10,5))\n",
    "sns.boxplot(data=data,x=\"life\",y='region',palette=\"Purples\")\n",
    "plt.title('Boxplot de variable life por región')\n",
    "plt.xlabel('Life')\n",
    "plt.ylabel('Region')"
   ]
  },
  {
   "cell_type": "code",
   "execution_count": 93,
   "metadata": {
    "scrolled": false
   },
   "outputs": [
    {
     "data": {
      "text/plain": [
       "Text(0.5, 1.0, 'Comportamiento de variables life y urban, segmentados por Región')"
      ]
     },
     "execution_count": 93,
     "metadata": {},
     "output_type": "execute_result"
    },
    {
     "data": {
      "image/png": "[encoded data removed]",
      "text/plain": [
       "<Figure size 720x360 with 1 Axes>"
      ]
     },
     "metadata": {
      "needs_background": "light"
     },
     "output_type": "display_data"
    }
   ],
   "source": [
    "#Comparación de comportamiento entre variable life, urban y region\n",
    "plt.figure(figsize=(10,5))\n",
    "sns.scatterplot(data=data,x='life',y='urban',hue='region',palette='rainbow')\n",
    "plt.title('Comportamiento de variables life y urban, segmentados por Región')"
   ]
  },
  {
   "cell_type": "code",
   "execution_count": 99,
   "metadata": {
    "scrolled": true
   },
   "outputs": [
    {
     "data": {
      "text/plain": [
       "<seaborn.axisgrid.JointGrid at 0x7f82140d0cd0>"
      ]
     },
     "execution_count": 99,
     "metadata": {},
     "output_type": "execute_result"
    },
    {
     "data": {
      "image/png": "[encoded data removed]",
      "text/plain": [
       "<Figure size 432x432 with 3 Axes>"
      ]
     },
     "metadata": {
      "needs_background": "light"
     },
     "output_type": "display_data"
    }
   ],
   "source": [
    "sns.jointplot(data=data,x='life',y='urban')"
   ]
  },
  {
   "cell_type": "code",
   "execution_count": 106,
   "metadata": {},
   "outputs": [
    {
     "data": {
      "text/plain": [
       "Text(0.5, 1.0, 'Relacion entre urban y life')"
      ]
     },
     "execution_count": 106,
     "metadata": {},
     "output_type": "execute_result"
    },
    {
     "data": {
      "image/png": "[encoded data removed]",
      "text/plain": [
       "<Figure size 432x288 with 1 Axes>"
      ]
     },
     "metadata": {
      "needs_background": "light"
     },
     "output_type": "display_data"
    }
   ],
   "source": [
    "sns.kdeplot(data['life'],data['urban'],shade=True,cmap='Reds')\n",
    "plt.title('Relacion entre urban y life')"
   ]
  },
  {
   "cell_type": "code",
   "execution_count": 98,
   "metadata": {},
   "outputs": [
    {
     "data": {
      "text/plain": [
       "<matplotlib.axes._subplots.AxesSubplot at 0x7f8213ff9190>"
      ]
     },
     "execution_count": 98,
     "metadata": {},
     "output_type": "execute_result"
    },
    {
     "data": {
      "image/png": "[encoded data removed]",
      "text/plain": [
       "<Figure size 432x288 with 1 Axes>"
      ]
     },
     "metadata": {
      "needs_background": "light"
     },
     "output_type": "display_data"
    }
   ],
   "source": [
    "sns.regplot(data=data,x='life',y='urban')"
   ]
  },
  {
   "cell_type": "code",
   "execution_count": 120,
   "metadata": {},
   "outputs": [
    {
     "name": "stdout",
     "output_type": "stream",
     "text": [
      "country tiene 1.0 datos no missing\n",
      "region tiene 1.0 datos no missing\n",
      "gdp tiene 0.9226804123711341 datos no missing\n",
      "school tiene 0.9690721649484536 datos no missing\n",
      "adfert tiene 1.0 datos no missing\n",
      "chldmort tiene 0.9948453608247423 datos no missing\n",
      "life tiene 1.0 datos no missing\n",
      "pop tiene 1.0 datos no missing\n",
      "urban tiene 1.0 datos no missing\n",
      "femlab tiene 0.9123711340206185 datos no missing\n",
      "literacy tiene 0.6958762886597938 datos no missing\n",
      "co2 tiene 0.9536082474226805 datos no missing\n",
      "gini tiene 0.4175257731958763 datos no missing\n"
     ]
    }
   ],
   "source": [
    "for col in data.columns:\n",
    "    sin_na=data[col].dropna()\n",
    "    p_dato_correcto=len(sin_na)/len(data)\n",
    "    print(f'{col} tiene {p_dato_correcto} datos no missing')"
   ]
  },
  {
   "cell_type": "code",
   "execution_count": 139,
   "metadata": {},
   "outputs": [],
   "source": [
    "'''Dado que literacy tiene muy baja cantidad de datos no missing, \n",
    "se opta por eliminar la columna'''\n",
    "\n",
    "\n",
    "data = data.drop('literacy',axis=1)"
   ]
  },
  {
   "cell_type": "code",
   "execution_count": 142,
   "metadata": {},
   "outputs": [],
   "source": [
    "'''Dado que el % de missin de chldmort es muy pequeño, simplemente \n",
    "se van a eliminar las filas que tienen valor missing'''\n",
    "\n",
    "data=data[~data['chldmort'].isna()]"
   ]
  },
  {
   "cell_type": "code",
   "execution_count": 141,
   "metadata": {},
   "outputs": [],
   "source": [
    "#Llenado de datos missing para campos numéricos, se utilizó la mediana\n",
    "for col in data.columns:\n",
    "    if  not (col =='region' or col == 'country' or col=='gini'):\n",
    "        mediana=data[col].median()\n",
    "        data[col]=data[col].fillna(mediana)"
   ]
  },
  {
   "cell_type": "code",
   "execution_count": 143,
   "metadata": {},
   "outputs": [
    {
     "data": {
      "text/html": [
       "<div>\n",
       "<style scoped>\n",
       "    .dataframe tbody tr th:only-of-type {\n",
       "        vertical-align: middle;\n",
       "    }\n",
       "\n",
       "    .dataframe tbody tr th {\n",
       "        vertical-align: top;\n",
       "    }\n",
       "\n",
       "    .dataframe thead th {\n",
       "        text-align: right;\n",
       "    }\n",
       "</style>\n",
       "<table border=\"1\" class=\"dataframe\">\n",
       "  <thead>\n",
       "    <tr style=\"text-align: right;\">\n",
       "      <th></th>\n",
       "      <th>gdp</th>\n",
       "      <th>school</th>\n",
       "      <th>adfert</th>\n",
       "      <th>chldmort</th>\n",
       "      <th>life</th>\n",
       "      <th>pop</th>\n",
       "      <th>urban</th>\n",
       "      <th>femlab</th>\n",
       "      <th>co2</th>\n",
       "      <th>gini</th>\n",
       "    </tr>\n",
       "  </thead>\n",
       "  <tbody>\n",
       "    <tr>\n",
       "      <th>count</th>\n",
       "      <td>193.000000</td>\n",
       "      <td>193.000000</td>\n",
       "      <td>193.000000</td>\n",
       "      <td>193.000000</td>\n",
       "      <td>193.000000</td>\n",
       "      <td>1.930000e+02</td>\n",
       "      <td>193.000000</td>\n",
       "      <td>193.000000</td>\n",
       "      <td>193.000000</td>\n",
       "      <td>81.000000</td>\n",
       "    </tr>\n",
       "    <tr>\n",
       "      <th>mean</th>\n",
       "      <td>11574.222871</td>\n",
       "      <td>7.461226</td>\n",
       "      <td>52.066321</td>\n",
       "      <td>47.650259</td>\n",
       "      <td>68.662090</td>\n",
       "      <td>3.451982e+07</td>\n",
       "      <td>55.203972</td>\n",
       "      <td>0.694731</td>\n",
       "      <td>17.427591</td>\n",
       "      <td>40.477778</td>\n",
       "    </tr>\n",
       "    <tr>\n",
       "      <th>std</th>\n",
       "      <td>13356.154754</td>\n",
       "      <td>2.917291</td>\n",
       "      <td>44.040477</td>\n",
       "      <td>52.809400</td>\n",
       "      <td>10.037778</td>\n",
       "      <td>1.317271e+08</td>\n",
       "      <td>23.277784</td>\n",
       "      <td>0.175393</td>\n",
       "      <td>25.209396</td>\n",
       "      <td>8.487874</td>\n",
       "    </tr>\n",
       "    <tr>\n",
       "      <th>min</th>\n",
       "      <td>279.799988</td>\n",
       "      <td>1.150000</td>\n",
       "      <td>1.000000</td>\n",
       "      <td>2.250000</td>\n",
       "      <td>45.849998</td>\n",
       "      <td>9.767000e+03</td>\n",
       "      <td>10.250000</td>\n",
       "      <td>0.194200</td>\n",
       "      <td>0.100000</td>\n",
       "      <td>19.000000</td>\n",
       "    </tr>\n",
       "    <tr>\n",
       "      <th>25%</th>\n",
       "      <td>2295.600098</td>\n",
       "      <td>5.400000</td>\n",
       "      <td>16.500000</td>\n",
       "      <td>10.250000</td>\n",
       "      <td>63.716667</td>\n",
       "      <td>1.440083e+06</td>\n",
       "      <td>36.299999</td>\n",
       "      <td>0.600400</td>\n",
       "      <td>2.250000</td>\n",
       "      <td>34.000000</td>\n",
       "    </tr>\n",
       "    <tr>\n",
       "      <th>50%</th>\n",
       "      <td>6882.699951</td>\n",
       "      <td>7.900000</td>\n",
       "      <td>39.500000</td>\n",
       "      <td>24.000000</td>\n",
       "      <td>72.166664</td>\n",
       "      <td>6.655934e+06</td>\n",
       "      <td>56.366665</td>\n",
       "      <td>0.730000</td>\n",
       "      <td>8.375000</td>\n",
       "      <td>39.700001</td>\n",
       "    </tr>\n",
       "    <tr>\n",
       "      <th>75%</th>\n",
       "      <td>14497.799805</td>\n",
       "      <td>9.816667</td>\n",
       "      <td>74.400002</td>\n",
       "      <td>69.750000</td>\n",
       "      <td>75.533333</td>\n",
       "      <td>2.231517e+07</td>\n",
       "      <td>73.433334</td>\n",
       "      <td>0.811800</td>\n",
       "      <td>23.950001</td>\n",
       "      <td>46.200001</td>\n",
       "    </tr>\n",
       "    <tr>\n",
       "      <th>max</th>\n",
       "      <td>74906.000000</td>\n",
       "      <td>12.700000</td>\n",
       "      <td>207.100006</td>\n",
       "      <td>209.000000</td>\n",
       "      <td>82.766663</td>\n",
       "      <td>1.324696e+09</td>\n",
       "      <td>100.000000</td>\n",
       "      <td>1.034400</td>\n",
       "      <td>210.649994</td>\n",
       "      <td>58.500000</td>\n",
       "    </tr>\n",
       "  </tbody>\n",
       "</table>\n",
       "</div>"
      ],
      "text/plain": [
       "                gdp      school      adfert    chldmort        life  \\\n",
       "count    193.000000  193.000000  193.000000  193.000000  193.000000   \n",
       "mean   11574.222871    7.461226   52.066321   47.650259   68.662090   \n",
       "std    13356.154754    2.917291   44.040477   52.809400   10.037778   \n",
       "min      279.799988    1.150000    1.000000    2.250000   45.849998   \n",
       "25%     2295.600098    5.400000   16.500000   10.250000   63.716667   \n",
       "50%     6882.699951    7.900000   39.500000   24.000000   72.166664   \n",
       "75%    14497.799805    9.816667   74.400002   69.750000   75.533333   \n",
       "max    74906.000000   12.700000  207.100006  209.000000   82.766663   \n",
       "\n",
       "                pop       urban      femlab         co2       gini  \n",
       "count  1.930000e+02  193.000000  193.000000  193.000000  81.000000  \n",
       "mean   3.451982e+07   55.203972    0.694731   17.427591  40.477778  \n",
       "std    1.317271e+08   23.277784    0.175393   25.209396   8.487874  \n",
       "min    9.767000e+03   10.250000    0.194200    0.100000  19.000000  \n",
       "25%    1.440083e+06   36.299999    0.600400    2.250000  34.000000  \n",
       "50%    6.655934e+06   56.366665    0.730000    8.375000  39.700001  \n",
       "75%    2.231517e+07   73.433334    0.811800   23.950001  46.200001  \n",
       "max    1.324696e+09  100.000000    1.034400  210.649994  58.500000  "
      ]
     },
     "execution_count": 143,
     "metadata": {},
     "output_type": "execute_result"
    }
   ],
   "source": [
    "data.describe()"
   ]
  },
  {
   "cell_type": "code",
   "execution_count": 149,
   "metadata": {},
   "outputs": [
    {
     "data": {
      "text/plain": [
       "region\n",
       "Africa      71.5625\n",
       "Americas    13.7500\n",
       "Asia        13.9375\n",
       "Europe       4.0000\n",
       "Oceania     17.8750\n",
       "Name: chldmort, dtype: float64"
      ]
     },
     "execution_count": 149,
     "metadata": {},
     "output_type": "execute_result"
    }
   ],
   "source": [
    "data.groupby('region').chldmort.quantile(0.25)"
   ]
  },
  {
   "cell_type": "code",
   "execution_count": 161,
   "metadata": {},
   "outputs": [],
   "source": [
    "resumen=(data.groupby('region')\n",
    "             .chldmort\n",
    "             .agg(promedio='mean'\n",
    "                  ,minimo='min'\n",
    "                  ,maximo='max'\n",
    "                  ,mediana='median')\n",
    "            .reset_index())"
   ]
  },
  {
   "cell_type": "code",
   "execution_count": 165,
   "metadata": {},
   "outputs": [
    {
     "data": {
      "text/plain": [
       "Text(0, 0.5, 'chldmort')"
      ]
     },
     "execution_count": 165,
     "metadata": {},
     "output_type": "execute_result"
    },
    {
     "data": {
      "image/png": "[encoded data removed]",
      "text/plain": [
       "<Figure size 432x288 with 1 Axes>"
      ]
     },
     "metadata": {
      "needs_background": "light"
     },
     "output_type": "display_data"
    }
   ],
   "source": [
    "sns.barplot(data=resumen,x='region',y='promedio')\n",
    "plt.title('Promedio de chldmort por región')\n",
    "plt.ylabel('chldmort')"
   ]
  },
  {
   "cell_type": "code",
   "execution_count": 164,
   "metadata": {},
   "outputs": [
    {
     "data": {
      "text/plain": [
       "<matplotlib.axes._subplots.AxesSubplot at 0x7f8214c02310>"
      ]
     },
     "execution_count": 164,
     "metadata": {},
     "output_type": "execute_result"
    },
    {
     "data": {
      "image/png": "[encoded data removed]",
      "text/plain": [
       "<Figure size 432x288 with 1 Axes>"
      ]
     },
     "metadata": {
      "needs_background": "light"
     },
     "output_type": "display_data"
    }
   ],
   "source": [
    "resumen.plot()"
   ]
  },
  {
   "cell_type": "code",
   "execution_count": 171,
   "metadata": {},
   "outputs": [
    {
     "data": {
      "text/plain": [
       "Text(0.5, 1, 'Matri de correlación para variables numéricas')"
      ]
     },
     "execution_count": 171,
     "metadata": {},
     "output_type": "execute_result"
    },
    {
     "data": {
      "image/png": "[encoded data removed]",
      "text/plain": [
       "<Figure size 720x720 with 2 Axes>"
      ]
     },
     "metadata": {
      "needs_background": "light"
     },
     "output_type": "display_data"
    }
   ],
   "source": [
    "matriz_de_correlacion=data.corr()\n",
    "plt.figure(figsize=(10,10))\n",
    "sns.heatmap(matriz_de_correlacion,cmap='RdBu_r',annot=True)\n",
    "plt.title('Matri de correlación para variables numéricas')"
   ]
  },
  {
   "cell_type": "code",
   "execution_count": 175,
   "metadata": {},
   "outputs": [
    {
     "data": {
      "text/html": [
       "<table class=\"simpletable\">\n",
       "<caption>OLS Regression Results</caption>\n",
       "<tr>\n",
       "  <th>Dep. Variable:</th>          <td>urban</td>      <th>  R-squared:         </th> <td>   0.389</td>\n",
       "</tr>\n",
       "<tr>\n",
       "  <th>Model:</th>                   <td>OLS</td>       <th>  Adj. R-squared:    </th> <td>   0.382</td>\n",
       "</tr>\n",
       "<tr>\n",
       "  <th>Method:</th>             <td>Least Squares</td>  <th>  F-statistic:       </th> <td>   60.43</td>\n",
       "</tr>\n",
       "<tr>\n",
       "  <th>Date:</th>             <td>Thu, 09 Jul 2020</td> <th>  Prob (F-statistic):</th> <td>4.88e-21</td>\n",
       "</tr>\n",
       "<tr>\n",
       "  <th>Time:</th>                 <td>21:27:44</td>     <th>  Log-Likelihood:    </th> <td> -833.31</td>\n",
       "</tr>\n",
       "<tr>\n",
       "  <th>No. Observations:</th>      <td>   193</td>      <th>  AIC:               </th> <td>   1673.</td>\n",
       "</tr>\n",
       "<tr>\n",
       "  <th>Df Residuals:</th>          <td>   190</td>      <th>  BIC:               </th> <td>   1682.</td>\n",
       "</tr>\n",
       "<tr>\n",
       "  <th>Df Model:</th>              <td>     2</td>      <th>                     </th>     <td> </td>   \n",
       "</tr>\n",
       "<tr>\n",
       "  <th>Covariance Type:</th>      <td>nonrobust</td>    <th>                     </th>     <td> </td>   \n",
       "</tr>\n",
       "</table>\n",
       "<table class=\"simpletable\">\n",
       "<tr>\n",
       "      <td></td>         <th>coef</th>     <th>std err</th>      <th>t</th>      <th>P>|t|</th>  <th>[0.025</th>    <th>0.975]</th>  \n",
       "</tr>\n",
       "<tr>\n",
       "  <th>Intercept</th> <td>  -43.1240</td> <td>    9.131</td> <td>   -4.723</td> <td> 0.000</td> <td>  -61.135</td> <td>  -25.113</td>\n",
       "</tr>\n",
       "<tr>\n",
       "  <th>life</th>      <td>    1.4382</td> <td>    0.132</td> <td>   10.934</td> <td> 0.000</td> <td>    1.179</td> <td>    1.698</td>\n",
       "</tr>\n",
       "<tr>\n",
       "  <th>pop</th>       <td> -1.22e-08</td> <td>    1e-08</td> <td>   -1.217</td> <td> 0.225</td> <td> -3.2e-08</td> <td> 7.57e-09</td>\n",
       "</tr>\n",
       "</table>\n",
       "<table class=\"simpletable\">\n",
       "<tr>\n",
       "  <th>Omnibus:</th>       <td> 5.145</td> <th>  Durbin-Watson:     </th> <td>   1.862</td>\n",
       "</tr>\n",
       "<tr>\n",
       "  <th>Prob(Omnibus):</th> <td> 0.076</td> <th>  Jarque-Bera (JB):  </th> <td>   5.254</td>\n",
       "</tr>\n",
       "<tr>\n",
       "  <th>Skew:</th>          <td>-0.396</td> <th>  Prob(JB):          </th> <td>  0.0723</td>\n",
       "</tr>\n",
       "<tr>\n",
       "  <th>Kurtosis:</th>      <td> 2.841</td> <th>  Cond. No.          </th> <td>9.42e+08</td>\n",
       "</tr>\n",
       "</table><br/><br/>Warnings:<br/>[1] Standard Errors assume that the covariance matrix of the errors is correctly specified.<br/>[2] The condition number is large, 9.42e+08. This might indicate that there are<br/>strong multicollinearity or other numerical problems."
      ],
      "text/plain": [
       "<class 'statsmodels.iolib.summary.Summary'>\n",
       "\"\"\"\n",
       "                            OLS Regression Results                            \n",
       "==============================================================================\n",
       "Dep. Variable:                  urban   R-squared:                       0.389\n",
       "Model:                            OLS   Adj. R-squared:                  0.382\n",
       "Method:                 Least Squares   F-statistic:                     60.43\n",
       "Date:                Thu, 09 Jul 2020   Prob (F-statistic):           4.88e-21\n",
       "Time:                        21:27:44   Log-Likelihood:                -833.31\n",
       "No. Observations:                 193   AIC:                             1673.\n",
       "Df Residuals:                     190   BIC:                             1682.\n",
       "Df Model:                           2                                         \n",
       "Covariance Type:            nonrobust                                         \n",
       "==============================================================================\n",
       "                 coef    std err          t      P>|t|      [0.025      0.975]\n",
       "------------------------------------------------------------------------------\n",
       "Intercept    -43.1240      9.131     -4.723      0.000     -61.135     -25.113\n",
       "life           1.4382      0.132     10.934      0.000       1.179       1.698\n",
       "pop         -1.22e-08      1e-08     -1.217      0.225    -3.2e-08    7.57e-09\n",
       "==============================================================================\n",
       "Omnibus:                        5.145   Durbin-Watson:                   1.862\n",
       "Prob(Omnibus):                  0.076   Jarque-Bera (JB):                5.254\n",
       "Skew:                          -0.396   Prob(JB):                       0.0723\n",
       "Kurtosis:                       2.841   Cond. No.                     9.42e+08\n",
       "==============================================================================\n",
       "\n",
       "Warnings:\n",
       "[1] Standard Errors assume that the covariance matrix of the errors is correctly specified.\n",
       "[2] The condition number is large, 9.42e+08. This might indicate that there are\n",
       "strong multicollinearity or other numerical problems.\n",
       "\"\"\""
      ]
     },
     "execution_count": 175,
     "metadata": {},
     "output_type": "execute_result"
    }
   ],
   "source": [
    "#Creación del modelo\n",
    "modelo = smf.ols(\"urban ~ life + pop \",data)\n",
    "\n",
    "#Estimación\n",
    "modelo = modelo.fit()\n",
    "\n",
    "\n",
    "#Resumen de la regresion\n",
    "modelo.summary()"
   ]
  },
  {
   "cell_type": "code",
   "execution_count": null,
   "metadata": {},
   "outputs": [],
   "source": [
    "# Esta es la regresión\n",
    "# urban = 1.4382*life + -1.22e-08*pop + -43.1240"
   ]
  },
  {
   "cell_type": "markdown",
   "metadata": {},
   "source": [
    "Hasta este punto es **todo** lo que vimos en el taller, sin embargo. Aprovechando que ya tenemos un dataset limpio, podriamos aprovecharlo para hacer un modelo de machine learning 👀\n",
    "\n",
    "\n",
    "\n",
    "Sigamos trabajando con África, podríamos ser capaces de hacer un modelo que pueda predecir si un registro es de áfrica o no?. Para ello, primero debemos crear un campo que tenga dos valores\n",
    "\n",
    "    -1: Es de África\n",
    "    -2: No es de África"
   ]
  },
  {
   "cell_type": "code",
   "execution_count": 182,
   "metadata": {},
   "outputs": [
    {
     "data": {
      "text/plain": [
       "'Apply es una función que me permite iterar por todas las filas de un dataframe \\n     pero con una sintaxis más corta que un for. Esta línea de código está diciendo:\\n     \\n         - Anda a la columna llamada region del dataset data e itera por cada una de sus filas.\\n         - Mientras iteras, al valor correspondiente a la fila le vamos a llamar x\\n         - Aplica un If al valor x, si x es igual a África, entonces el resultado será un uno\\n            caso contrario, será un cero.\\n'"
      ]
     },
     "execution_count": 182,
     "metadata": {},
     "output_type": "execute_result"
    }
   ],
   "source": [
    "'''Apply es una función que me permite iterar por todas las filas de un dataframe \n",
    "     pero con una sintaxis más corta que un for. Esta línea de código está diciendo:\n",
    "     \n",
    "         - Anda a la columna llamada region del dataset data e itera por cada una de sus filas.\n",
    "         - Mientras iteras, al valor correspondiente a la fila le vamos a llamar x\n",
    "         - Aplica un If al valor x, si x es igual a África, entonces el resultado será un uno\n",
    "            caso contrario, será un cero.\n",
    "'''\n",
    "\n",
    "data['flag_africa']=data.region.apply(lambda x: 1 if x == \"Africa\" else 0)\n",
    "\n",
    "#Ahora, vamos a borrar las columnas que no van a ser útiles para la predicción\n",
    "data=data.drop(['region','gini','country'],axis=1)\n"
   ]
  },
  {
   "cell_type": "markdown",
   "metadata": {},
   "source": [
    "Vamos a entrenar un arbol de decisiones, donde utilizaremos el 80% de los datos para entrenar y el 20% para probar la predicción de nuestro modelo."
   ]
  },
  {
   "cell_type": "code",
   "execution_count": 183,
   "metadata": {},
   "outputs": [],
   "source": [
    "#Con esto vamos a segmentar la data\n",
    "from sklearn.model_selection import train_test_split\n",
    "\n",
    "#El modelo\n",
    "from sklearn import tree"
   ]
  },
  {
   "cell_type": "code",
   "execution_count": 185,
   "metadata": {},
   "outputs": [],
   "source": [
    "#Segmentamos el dataset en y= variable a predecir y x=variables que nos ayudaran a obtener la predicción.\n",
    "y=data.flag_africa\n",
    "x=data.drop('flag_africa',axis=1)\n",
    "\n",
    "#Esta línea automáticamente nos segmenta los datos en entrenamiento y prueba de forma aleatoria\n",
    "#random_state ayuda a que esta aleatoridad sea controlada. \n",
    "#Si no hubiera un random state, por cada vez que ejecuto la línea obtendría resultados diferentes\n",
    "x_train, x_test, y_train, y_test = train_test_split(x, y, test_size=0.2, random_state=1313)"
   ]
  },
  {
   "cell_type": "code",
   "execution_count": 189,
   "metadata": {},
   "outputs": [
    {
     "data": {
      "text/plain": [
       "DecisionTreeRegressor(ccp_alpha=0.0, criterion='mse', max_depth=None,\n",
       "                      max_features=None, max_leaf_nodes=None,\n",
       "                      min_impurity_decrease=0.0, min_impurity_split=None,\n",
       "                      min_samples_leaf=1, min_samples_split=2,\n",
       "                      min_weight_fraction_leaf=0.0, presort='deprecated',\n",
       "                      random_state=None, splitter='best')"
      ]
     },
     "execution_count": 189,
     "metadata": {},
     "output_type": "execute_result"
    }
   ],
   "source": [
    "#Acá creamos nuestro modelo\n",
    "modelo = tree.DecisionTreeRegressor()\n",
    "\n",
    "#Entrenamos nuestro modelo\n",
    "modelo = modelo.fit(x_train, y_train)\n",
    "\n",
    "#y eso fue todo, acá es solo para ver qué arroja ese objeto misterioso llamado modelo\n",
    "modelo"
   ]
  },
  {
   "cell_type": "code",
   "execution_count": 191,
   "metadata": {},
   "outputs": [
    {
     "data": {
      "text/plain": [
       "array([0., 0., 0., 0., 1., 0., 0., 0., 1., 1., 1., 0., 1., 0., 1., 1., 0.,\n",
       "       1., 0., 0., 0., 0., 0., 1., 0., 0., 0., 1., 0., 0., 0., 0., 1., 1.,\n",
       "       0., 1., 0., 1., 0.])"
      ]
     },
     "execution_count": 191,
     "metadata": {},
     "output_type": "execute_result"
    }
   ],
   "source": [
    "#Esta línea me permite obtener predicciones usando el modelo\n",
    "modelo.predict(x_test)"
   ]
  },
  {
   "cell_type": "markdown",
   "metadata": {},
   "source": [
    "Ok, todo muy cool, pero cómo sé si el modelo está dando resultados decentes? 🤔. Hay que hacer una prueba...\n",
    "\n",
    "\n",
    "Como es un modelo de **clasificación** lo mejor que podemos hacer es calcular el accuracy del modelo, es decir, el % de veces que esté dio una predicción correcta. Para esta prueba, necesitamos utilizar data que no haya sido incluida en el entrenamiento, de ahí que dejemos un 20% fuera c: "
   ]
  },
  {
   "cell_type": "code",
   "execution_count": 192,
   "metadata": {},
   "outputs": [],
   "source": [
    "#Con esta libreria podremos medir el accuracy\n",
    "from sklearn.metrics import accuracy_score"
   ]
  },
  {
   "cell_type": "code",
   "execution_count": 193,
   "metadata": {},
   "outputs": [
    {
     "data": {
      "text/plain": [
       "0.8974358974358975"
      ]
     },
     "execution_count": 193,
     "metadata": {},
     "output_type": "execute_result"
    }
   ],
   "source": [
    "#Acá comparamos los valores reales, contra la predicción.\n",
    "accuracy_score(y_test, modelo.predict(x_test))"
   ]
  },
  {
   "cell_type": "markdown",
   "metadata": {},
   "source": [
    "Para mi sorpresa, tenemos un 89% de accuracy lo cual es **bastante bueno** considerando que no modificamos ningún **hipeparámetro** del modelo y que el arbol de decisión es el modelo más sencillo que existe c: \n",
    "\n",
    "\n",
    "\n",
    "khe es un hiperparámetro? Son aquellos que nos ayudan a configurar nuestro modelo para optimizar sus resultados. Cada tipo de modelo tiene hiperparámetros diferentes y los pueden encontrar en la documentación de este. En el caso del arbol de decisión podemos configurar el nivel de produndidad al que queremos que llegue nuestro árbol."
   ]
  },
  {
   "cell_type": "code",
   "execution_count": 194,
   "metadata": {},
   "outputs": [],
   "source": [
    "#Finalmente, usaremos esta para tener el detalle de nuestras predicciones\n",
    "from sklearn.metrics import confusion_matrix"
   ]
  },
  {
   "cell_type": "markdown",
   "metadata": {},
   "source": [
    "La matriz de confusión se compone de la siguiente forma\n",
    "\n",
    "|     |  1      | 0     |\n",
    "| ----|:-------:| -----:|\n",
    "| 1   | ok      | error |\n",
    "| 0   | error   |   ok  |\n"
   ]
  },
  {
   "cell_type": "code",
   "execution_count": 204,
   "metadata": {},
   "outputs": [
    {
     "data": {
      "text/plain": [
       "array([[13,  3],\n",
       "       [ 1, 22]])"
      ]
     },
     "execution_count": 204,
     "metadata": {},
     "output_type": "execute_result"
    }
   ],
   "source": [
    "cm=confusion_matrix(y_test, modelo.predict(x_test),labels=[1, 0])\n",
    "cm"
   ]
  },
  {
   "cell_type": "code",
   "execution_count": 207,
   "metadata": {},
   "outputs": [
    {
     "data": {
      "text/plain": [
       "0.8974358974358975"
      ]
     },
     "execution_count": 207,
     "metadata": {},
     "output_type": "execute_result"
    }
   ],
   "source": [
    "#si lo hago de forma manual, obtengo el mismo accuracy que calculamos orignalmente.\n",
    "correcto=13+22\n",
    "incorrecto=1+3\n",
    "\n",
    "correcto/(correcto+incorrecto)"
   ]
  },
  {
   "cell_type": "code",
   "execution_count": null,
   "metadata": {},
   "outputs": [],
   "source": []
  }
 ],
 "metadata": {
  "kernelspec": {
   "display_name": "Python 3",
   "language": "python",
   "name": "python3"
  },
  "language_info": {
   "codemirror_mode": {
    "name": "ipython",
    "version": 3
   },
   "file_extension": ".py",
   "mimetype": "text/x-python",
   "name": "python",
   "nbconvert_exporter": "python",
   "pygments_lexer": "ipython3",
   "version": "3.7.6"
  }
 },
 "nbformat": 4,
 "nbformat_minor": 4
}
